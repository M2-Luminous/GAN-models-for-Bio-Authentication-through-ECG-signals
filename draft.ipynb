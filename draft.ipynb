{
 "cells": [
  {
   "cell_type": "markdown",
   "metadata": {},
   "source": [
    "convert"
   ]
  },
  {
   "cell_type": "code",
   "execution_count": null,
   "metadata": {},
   "outputs": [],
   "source": [
    "import os\n",
    "import wfdb\n",
    "import numpy as np\n",
    "from tqdm import tqdm\n",
    "import matplotlib.pyplot as plt\n",
    "\n",
    "# Define the path to your original dataset directory (.dat and .hea files)\n",
    "DATA_DIR = \"C:/Users/M2-Winterfell/Downloads/electrocardiography-dataset-1.0.3/records500/02000\"\n",
    "\n",
    "# Define the destination directory for the converted .asc files\n",
    "DEST_DIR = \"C:/Users/M2-Winterfell/Downloads/converted_asc\"\n",
    "if not os.path.exists(DEST_DIR):\n",
    "    os.makedirs(DEST_DIR)\n",
    "\n",
    "# Function to convert a single record into .asc format without modifying its content\n",
    "def convert_ecg_record_to_asc(file_path, out_filepath):\n",
    "    try:\n",
    "        # Load the record using wfdb (the file_path should be provided without extension)\n",
    "        record = wfdb.rdrecord(file_path)\n",
    "        # Save the complete signal data (all channels) into an .asc file\n",
    "        np.savetxt(out_filepath, record.p_signal, fmt=\"%.6f\")\n",
    "    except Exception as e:\n",
    "        print(f\"Error converting {file_path}: {e}\")\n",
    "\n",
    "# Function to convert all ECG records in the folder to .asc format\n",
    "def convert_all_ecg_to_asc(data_dir, dest_dir):\n",
    "    for root, dirs, files in os.walk(data_dir):\n",
    "        for file in tqdm(files, desc=\"Converting ECG files\"):\n",
    "            if file.endswith(\"_hr.dat\"):\n",
    "                # Construct the base filename (removing the '_hr.dat' extension)\n",
    "                base_filename = file.replace(\"_hr.dat\", \"_hr\")\n",
    "                record_path = os.path.join(root, base_filename)\n",
    "                # Define the output .asc file path\n",
    "                out_filename = base_filename + \".asc\"\n",
    "                out_filepath = os.path.join(dest_dir, out_filename)\n",
    "                convert_ecg_record_to_asc(record_path, out_filepath)\n",
    "\n",
    "# Convert all records in the DATA_DIR to .asc format\n",
    "convert_all_ecg_to_asc(DATA_DIR, DEST_DIR)"
   ]
  }
 ],
 "metadata": {
  "kernelspec": {
   "display_name": "Python 3",
   "language": "python",
   "name": "python3"
  },
  "language_info": {
   "codemirror_mode": {
    "name": "ipython",
    "version": 3
   },
   "file_extension": ".py",
   "mimetype": "text/x-python",
   "name": "python",
   "nbconvert_exporter": "python",
   "pygments_lexer": "ipython3",
   "version": "3.11.0"
  }
 },
 "nbformat": 4,
 "nbformat_minor": 2
}
